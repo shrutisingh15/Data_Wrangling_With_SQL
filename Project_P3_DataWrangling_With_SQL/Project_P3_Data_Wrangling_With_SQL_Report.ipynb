{
 "cells": [
  {
   "cell_type": "markdown",
   "metadata": {},
   "source": [
    "## OpenStreetMap Project\n",
    "\n",
    "### Map Area : Syracuse City Area, New York, USA "
   ]
  },
  {
   "cell_type": "markdown",
   "metadata": {},
   "source": [
    "### Introduction :\n",
    "I choose to analyse Syracuse City and area around it because it was fitting in the minimum dataset size requirement. The OSM file size is 61 MB in uncompressed form.Syracuse is the fourth most populous metropolitan city in the state of New York, U.S.A.\n",
    "It is the economic and educational hub of Central New York, a region with over a million inhabitants."
   ]
  },
  {
   "cell_type": "markdown",
   "metadata": {},
   "source": [
    "### Problems Encountered:\n",
    "\n",
    "I kick started my analysis by exploring for the common errors in street names and postal codes by running the audit_street_name() and audit_postalcode() function codes against the dataset.The following errors were encountered by me :"
   ]
  },
  {
   "cell_type": "markdown",
   "metadata": {},
   "source": [
    "#### 1.Abbreviations and typo error in street names:"
   ]
  },
  {
   "cell_type": "raw",
   "metadata": {},
   "source": [
    "Abbreviations and typos were present in the street names like 'James St.' and 'Presidential Courts'.I corrected such data items by using a standard mapping dictionary that I created in the audit_street_name() codes."
   ]
  },
  {
   "cell_type": "markdown",
   "metadata": {},
   "source": [
    "#### 2. Wrong format of the key & type fields in node_tags and way_tags:"
   ]
  },
  {
   "cell_type": "raw",
   "metadata": {},
   "source": [
    "After importing the data in SQL database,I ran couple queries to check the format specified for the key and type columns in way_tags and node_tags tables.\n",
    "\n",
    "\n",
    "sqlite>SELECT * FROM node_tags WHERE key LIKE '%:%' AND type = 'regular' UNION ALL SELECT * FROM way_tags WHERE key LIKE '%:%' AND type = 'regular';\n",
    "\n",
    "The results showed the presence of records that still had wrong format of the type and key columns like key='gnis:ST_alpha' and type ='regular' or key ='currency:USD' and type = 'regular' or key= 'gnis:ST_num' and type='regular'.There were quite many records with this type of issue. This was happened despite of running the formatting code in the shape_element() code as follows:\n",
    "\n",
    "\n",
    "For node_tags:\n",
    "\n",
    "if not PROBLEMCHARS.search(tag.attrib['k']):\n",
    "    if LOWER_COLON.search(tag.attrib['k']):\n",
    "            sub=tag.attrib['k'].split(':',1)\n",
    "            key=sub[-1]\n",
    "            typev=sub[-2]\n",
    "                                \n",
    "                               \n",
    "For way_tags:\n",
    "\n",
    "if not PROBLEMCHARS.search(tag.attrib['k']):\n",
    "    if LOWER_COLON.search(tag.attrib['k']):\n",
    "            sub=tag.attrib['k'].split(':',1)\n",
    "            keyval=sub[-1]\n",
    "            typeval=sub[-2]"
   ]
  },
  {
   "cell_type": "markdown",
   "metadata": {},
   "source": [
    "Hence, I ran couple update queries like the following in the SQL database itself to correct the format."
   ]
  },
  {
   "cell_type": "raw",
   "metadata": {},
   "source": [
    "sqlite> UPDATE node_tags\n",
    "SET key = 'Class',type='gnis'\n",
    "WHERE key = 'gnis:Class' AND type = 'regular';\n"
   ]
  },
  {
   "cell_type": "markdown",
   "metadata": {},
   "source": [
    "####  3. Issues in Postal codes : "
   ]
  },
  {
   "cell_type": "raw",
   "metadata": {},
   "source": [
    "* Bad Postal code(values with more than 5 digits) like \"132059211\" , \"132179211\" were found.I cleaned such values by truncating the last extra digits and also checked if the postal values exist in the City of Syracuse.\n",
    "\n",
    "* Also, there was no consistency in  the postal code values of many records.That means there were records in which hyphen with the last four digits were also present like \"13202-1107\", \"13210-1203\".I cleaned up such values to make sure all the records have the same 5 digit format and are correct.\n",
    "\n",
    "* Moreover, the codes for Syracuse city should begin with \"132\".I ran the following query to check for the same:\n",
    "\n",
    "sqlite>SELECT tags.value, COUNT(*) as count \n",
    "FROM (SELECT * FROM node_tags \n",
    "      UNION ALL \n",
    "      SELECT * FROM way_tags) tags\n",
    "WHERE tags.key='postcode'\n",
    "GROUP BY tags.value\n",
    "ORDER BY count DESC;\n",
    "\n",
    "\n",
    "The dataset has other value codes also that begin with '130' and '131' like the following results.The records for surrounding areas of Syracuse city were also present.\n",
    "\n",
    "13224|821\n",
    "13214|513\n",
    "13210|475\n",
    "13205|282\n",
    "13206|279\n",
    "13108|171\n",
    "13212|136\n",
    "13057|114\n",
    "13031|112\n",
    "13066|110\n",
    "13104|101\n",
    "13202|93\n",
    "13215|78\n",
    "13204|75\n",
    "13088|64\n",
    "13208|50\n",
    "13203|45\n",
    "13209|43\n",
    "13164|40\n",
    "13219|32\n",
    "13078|17\n",
    "13039|16\n",
    "\n",
    "So, I ran another query to sort the cities by count.\n"
   ]
  },
  {
   "cell_type": "markdown",
   "metadata": {},
   "source": [
    "#### Sort cities by count in descending order:"
   ]
  },
  {
   "cell_type": "raw",
   "metadata": {},
   "source": [
    "sqlite> SELECT tags.value, COUNT(*) as count \n",
    "FROM (SELECT * FROM node_tags UNION ALL \n",
    "      SELECT * FROM way_tags) tags\n",
    "WHERE tags.key LIKE '%city'\n",
    "GROUP BY tags.value\n",
    "ORDER BY count DESC;\n",
    "\n",
    "\n",
    "And the results were as follows :\n",
    "\n",
    "Syracuse           2834\n",
    "DeWitt             808\n",
    "Marcellus          209\n",
    "Camillus           158\n",
    "Fayetteville       116\n",
    "Manlius            104\n",
    "North Syracuse     104\n",
    "East Syracuse      94\n",
    "Liverpool          69\n",
    "Solvay             35\n",
    "Cicero             29\n",
    "Dewitt             26\n",
    "Onondaga           25\n",
    "Jamesville         15\n",
    "tiger              12\n",
    "Salina             8\n",
    "10                 5\n",
    "1                  4\n",
    "Mattydale          4\n",
    "100                3\n",
    "2                  3\n",
    "4                  3\n",
    "6                  3\n",
    "8                  3\n",
    "Baldwinsville      3\n",
    "Nedrow             3\n",
    "Onondaga Nation    3\n",
    "12                 2\n",
    "20                 2\n",
    "200                2\n",
    "39.5 MW            2\n",
    "80                 2\n",
    "Clay               2\n",
    "Mattdale           2\n",
    "1000               1\n",
    "104                1\n",
    "109                1\n",
    "1250               1\n",
    "13                 1\n",
    "1345               1\n",
    "170                1\n",
    "20-30              1\n",
    "220                1\n",
    "23                 1\n",
    "280                1\n",
    "285                1\n",
    "375                1\n",
    "425                1\n",
    "5                  1\n",
    "50                 1\n",
    "520                1\n",
    "550                1\n",
    "560                1\n",
    "575                1\n",
    "70                 1\n",
    "75                 1\n",
    "77                 1\n",
    "800                1\n",
    "98                 1\n",
    "Auburn             1\n",
    "Bridgeport         1\n",
    "East Syracuse, NY  1\n",
    "Fulton             1\n",
    "Kirkville          1\n",
    "Minoa              1\n",
    "east Syracuse      1\n",
    "\n",
    "\n",
    "Clearly, the results indicate the presence of surrounding areas of Syracuse City as well, as shown by the postalcodes."
   ]
  },
  {
   "cell_type": "markdown",
   "metadata": {},
   "source": [
    "### Data Overview and Additional Ideas:"
   ]
  },
  {
   "cell_type": "markdown",
   "metadata": {},
   "source": [
    "#### File Sizes :"
   ]
  },
  {
   "cell_type": "raw",
   "metadata": {},
   "source": [
    "Syracuse.osm ............... 61 MB\n",
    "Syracuse.db ................ 35.4 MB\n",
    "nodes.csv .................. 21.9 MB\n",
    "node_tags.csv .............. 1.31 MB\n",
    "ways.csv ................... 1.94 MB\n",
    "ways_nodes.csv ............. 7.40 MB\n",
    "ways_tags.csv .............. 5.71 MB"
   ]
  },
  {
   "cell_type": "markdown",
   "metadata": {},
   "source": [
    "#### Number of nodes :"
   ]
  },
  {
   "cell_type": "raw",
   "metadata": {},
   "source": [
    "sqlite> SELECT COUNT(*) FROM nodes;"
   ]
  },
  {
   "cell_type": "markdown",
   "metadata": {},
   "source": [
    "278790"
   ]
  },
  {
   "cell_type": "markdown",
   "metadata": {},
   "source": [
    "#### Number of ways :"
   ]
  },
  {
   "cell_type": "raw",
   "metadata": {},
   "source": [
    "sqlite> SELECT COUNT(*) FROM way;"
   ]
  },
  {
   "cell_type": "markdown",
   "metadata": {},
   "source": [
    "35363"
   ]
  },
  {
   "cell_type": "markdown",
   "metadata": {},
   "source": [
    "#### Number of unique users :"
   ]
  },
  {
   "cell_type": "raw",
   "metadata": {},
   "source": [
    "sqlite> SELECT COUNT(DISTINCT(e.uid))          \n",
    "FROM (SELECT uid FROM nodes UNION ALL SELECT uid FROM way) e;"
   ]
  },
  {
   "cell_type": "markdown",
   "metadata": {},
   "source": [
    "229"
   ]
  },
  {
   "cell_type": "markdown",
   "metadata": {},
   "source": [
    "#### Top 10 contributing users :"
   ]
  },
  {
   "cell_type": "raw",
   "metadata": {},
   "source": [
    "sqlite> SELECT e.user, COUNT(*) as num\n",
    "FROM (SELECT user FROM nodes UNION ALL SELECT user FROM way) e\n",
    "GROUP BY e.user\n",
    "ORDER BY num DESC\n",
    "LIMIT 10;"
   ]
  },
  {
   "cell_type": "raw",
   "metadata": {},
   "source": [
    "zeromap          158155\n",
    "woodpeck_fixbot  75599\n",
    "DTHG             27981\n",
    "yhahn            8129\n",
    "RussNelson       8073\n",
    "fx99             4495\n",
    "bot-mode         4410\n",
    "timr             2859\n",
    "TIGERcnl         2077\n",
    "Johnc            2035"
   ]
  },
  {
   "cell_type": "markdown",
   "metadata": {},
   "source": [
    "#### Number of users appearing only once (having 1 post)"
   ]
  },
  {
   "cell_type": "raw",
   "metadata": {},
   "source": [
    "sqlite> SELECT COUNT(*) \n",
    "FROM\n",
    "    (SELECT e.user, COUNT(*) as num\n",
    "     FROM (SELECT user FROM nodes UNION ALL SELECT user FROM way) e\n",
    "     GROUP BY e.user\n",
    "     HAVING num=1)  u;"
   ]
  },
  {
   "cell_type": "markdown",
   "metadata": {},
   "source": [
    "50"
   ]
  },
  {
   "cell_type": "markdown",
   "metadata": {},
   "source": [
    "### Additional Ideas"
   ]
  },
  {
   "cell_type": "markdown",
   "metadata": {},
   "source": [
    "#### Contributor statistics and gamification suggestion"
   ]
  },
  {
   "cell_type": "raw",
   "metadata": {},
   "source": [
    "The overall participation of users is skewed as shown by the top 10 contributing users.Use of automated edits or semi-automated edits by bots might be the possible factors for the skewed user participation statistics.\n",
    "\n",
    "* The top user \"zeromap\" contributed 50.34%.\n",
    "* The top 2 users \"zeromap\" and \"woodpeck_fixbot\" contributed 74.40%.\n",
    "* The top 10 users contributed 93.52%.\n",
    "\n",
    "The above statistics makes me ponder of gamification as one of the reasons behind such contributions.Gamification is a service that gamifies the collection of data in OpenStreetMaps.It engages & motivates users to showcase their talents or desires by including rewards schemes like Badges and Points.In this way,gamification can used as a service to attract more contribution by users who contribute once or twice or not very often as they can use gamified check-ins when ever they go a new location.\n",
    "In this age when nearly all the social networking apps(like facebook and whatsapp)have location check-in feature, users can keep adding new location information easily through their smart phones and that data will be more accurate because of the GPS data capturing feature of the smart phone.\n",
    "\n",
    "Although gamification rewards like points or badges can have a positive effect on user attitude towards submitting more data, but there are still doubts in its real efficacy.Like, it can be very effective for users' goal oriented and social behaviours but vanish in utilitarian services.So, we can say gamification can't drive long term behavorial change.It works but only to a certain degree."
   ]
  },
  {
   "cell_type": "markdown",
   "metadata": {},
   "source": [
    "#### Number of unique sources of data"
   ]
  },
  {
   "cell_type": "raw",
   "metadata": {},
   "source": [
    "sqlite> SELECT COUNT(DISTINCT tags.value)\n",
    "FROM (SELECT * FROM node_tags UNION ALL SELECT * FROM way_tags) tags\n",
    "WHERE tags.type = 'source';"
   ]
  },
  {
   "cell_type": "raw",
   "metadata": {},
   "source": [
    "78"
   ]
  },
  {
   "cell_type": "markdown",
   "metadata": {},
   "source": [
    "#### Top 10 sources of data"
   ]
  },
  {
   "cell_type": "raw",
   "metadata": {},
   "source": [
    "sqlite> SELECT tags.value ,COUNT(*) as count\n",
    "FROM (SELECT * FROM node_tags UNION ALL SELECT * FROM way_tags) tags\n",
    "WHERE tags.type='source'\n",
    "GROUP BY tags.value\n",
    "ORDER BY count DESC\n",
    "LIMIT 10;"
   ]
  },
  {
   "cell_type": "raw",
   "metadata": {},
   "source": [
    "NYSDOT https://www.dot.ny.gov/divisions/operating/oom/transportation-systems/repository/2010%20trk%20access%20bk.pdf.... 758\n",
    "TIGER 2015 ............................................................................................................. 576\n",
    "survey ................................................................................................................. 182\n",
    "tiger 2015 ............................................................................................................. 64\n",
    "tiger .................................................................................................................. 24\n",
    "National Transportation Atlas Database 2011 ............................................................................ 22\n",
    "local knowledge ........................................................................................................ 19\n",
    "Tiger 2015 ............................................................................................................. 17\n",
    "receipt ................................................................................................................ 12\n",
    "JOSM Incomplete Address plugin ......................................................................................... 8"
   ]
  },
  {
   "cell_type": "markdown",
   "metadata": {},
   "source": [
    "### Additional Data Exploration"
   ]
  },
  {
   "cell_type": "markdown",
   "metadata": {},
   "source": [
    "#### Top 10 appearing amenities"
   ]
  },
  {
   "cell_type": "raw",
   "metadata": {},
   "source": [
    "sqlite> SELECT value, COUNT(*) as num\n",
    "FROM node_tags\n",
    "WHERE key='amenity'\n",
    "GROUP BY value\n",
    "ORDER BY num DESC\n",
    "LIMIT 10;"
   ]
  },
  {
   "cell_type": "raw",
   "metadata": {},
   "source": [
    "school            152\n",
    "bench             151\n",
    "fast_food         93\n",
    "restaurant        75\n",
    "place_of_worship  73\n",
    "post_box          55\n",
    "bicycle_parking   49\n",
    "waste_basket      37\n",
    "pharmacy          31\n",
    "cafe              30"
   ]
  },
  {
   "cell_type": "markdown",
   "metadata": {},
   "source": [
    "#### Biggest Religion "
   ]
  },
  {
   "cell_type": "raw",
   "metadata": {},
   "source": [
    "sqlite> SELECT node_tags.value, COUNT(*) as num\n",
    "FROM node_tags \n",
    "    JOIN (SELECT DISTINCT(id) FROM node_tags WHERE value='place_of_worship') i\n",
    "    ON node_tags.id=i.id\n",
    "WHERE node_tags.key='religion'\n",
    "GROUP BY node_tags.value\n",
    "ORDER BY num DESC\n",
    "LIMIT 1;"
   ]
  },
  {
   "cell_type": "raw",
   "metadata": {},
   "source": [
    "Christian   69"
   ]
  },
  {
   "cell_type": "markdown",
   "metadata": {},
   "source": [
    "#### Most Popular Cuisines"
   ]
  },
  {
   "cell_type": "raw",
   "metadata": {},
   "source": [
    "sqlite> SELECT node_tags.value, COUNT(*) as num\n",
    "FROM node_tags \n",
    "    JOIN (SELECT DISTINCT(id) FROM node_tags WHERE value='restaurant') i\n",
    "    ON node_tags.id=i.id\n",
    "WHERE node_tags.key='cuisine'\n",
    "GROUP BY node_tags.value\n",
    "ORDER BY num DESC;"
   ]
  },
  {
   "cell_type": "raw",
   "metadata": {},
   "source": [
    "pizza               11\n",
    "chinese             8\n",
    "american            7\n",
    "italian             3\n",
    "steak_house         3\n",
    "burger              2\n",
    "japanese            2\n",
    "mexican             2\n",
    "sandwich            2\n",
    "Waffles             1\n",
    "diner               1\n",
    "german              1\n",
    "greek               1\n",
    "hispanic            1\n",
    "indian              1\n",
    "jamaican            1\n",
    "korean;japanese     1\n",
    "mediterranean       1\n",
    "seafood             1\n",
    "thai                1\n",
    "vietnamese          1"
   ]
  },
  {
   "cell_type": "markdown",
   "metadata": {},
   "source": [
    "#### Number of coffee shops"
   ]
  },
  {
   "cell_type": "raw",
   "metadata": {},
   "source": [
    "sqlite> SELECT node_tags.value, COUNT(*) as num\n",
    "FROM node_tags\n",
    "JOIN (SELECT DISTINCT(id) FROM node_tags WHERE value='cafe') i\n",
    "ON node_tags.id=i.id\n",
    "WHERE node_tags.key='amenity'\n",
    "GROUP BY node_tags.value\n",
    "ORDER BY num DESC;"
   ]
  },
  {
   "cell_type": "raw",
   "metadata": {},
   "source": [
    "cafe|30"
   ]
  },
  {
   "cell_type": "markdown",
   "metadata": {},
   "source": [
    "#### Top 3 coffee shops"
   ]
  },
  {
   "cell_type": "raw",
   "metadata": {},
   "source": [
    "sqlite> SELECT node_tags.value, COUNT(*) as num\n",
    "FROM node_tags\n",
    "JOIN (SELECT DISTINCT(id) FROM node_tags WHERE value LIKE '%cafe%') i\n",
    "ON node_tags.id=i.id\n",
    "WHERE node_tags.key='name'\n",
    "GROUP BY node_tags.value\n",
    "ORDER BY num DESC;"
   ]
  },
  {
   "cell_type": "raw",
   "metadata": {},
   "source": [
    "Dunkin Donuts    8\n",
    "Cafe Kubal       3\n",
    "Starbucks        3"
   ]
  },
  {
   "cell_type": "markdown",
   "metadata": {},
   "source": [
    "### Conclusion"
   ]
  },
  {
   "cell_type": "markdown",
   "metadata": {},
   "source": [
    "While working on Syracuse city area data, I could observed lack consistent format in the data entered by users.Through my effort of auditing, cleaning and shaping the data, I expect it to cleaned well for the purpose of my analysis.As depicted in the above analysis GPS data is present in openstreetmap because of contribution of users whether by manualy entry or automated tools.Considering the merits of gamification, with the continual user efforts, we can add much cleaner and accurate data into OpenStreetMaps."
   ]
  },
  {
   "cell_type": "markdown",
   "metadata": {},
   "source": [
    "### References :\n",
    "\n",
    "https://gist.github.com/carlward/54ec1c91b62a5f911c42#number-of-users-appearing-only-once-having-1-post\n",
    "\n",
    "http://wiki.openstreetmap.org/wiki/Gamification\n",
    "\n",
    "https://mapzen.com/data/metro-extracts/#syracuse-new-york\n",
    "\n",
    "http://gameffective.com/gamification-basics/what-foursquares-evolution-can-teach-us-about-enterprise-gamification/\n",
    "\n",
    "https://www.researchgate.net/publication/271643615_A_SWOT_Analysis_of_the_Gamification_Practices_Challenges_Open_Issues_and_Future_Perspectives\n",
    "\n"
   ]
  },
  {
   "cell_type": "code",
   "execution_count": null,
   "metadata": {
    "collapsed": true
   },
   "outputs": [],
   "source": []
  }
 ],
 "metadata": {
  "kernelspec": {
   "display_name": "Python 2",
   "language": "python",
   "name": "python2"
  },
  "language_info": {
   "codemirror_mode": {
    "name": "ipython",
    "version": 2
   },
   "file_extension": ".py",
   "mimetype": "text/x-python",
   "name": "python",
   "nbconvert_exporter": "python",
   "pygments_lexer": "ipython2",
   "version": "2.7.11"
  }
 },
 "nbformat": 4,
 "nbformat_minor": 0
}

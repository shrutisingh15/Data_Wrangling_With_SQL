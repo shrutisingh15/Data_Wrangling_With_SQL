{
 "cells": [
  {
   "cell_type": "code",
   "execution_count": 1,
   "metadata": {
    "collapsed": true
   },
   "outputs": [],
   "source": [
    "from bs4 import BeautifulSoup"
   ]
  },
  {
   "cell_type": "code",
   "execution_count": 2,
   "metadata": {
    "collapsed": true
   },
   "outputs": [],
   "source": [
    "with open('C:/Users/USER/Desktop/soup.html' , 'rb') as html:\n",
    "    soup=BeautifulSoup(html,'lxml')"
   ]
  },
  {
   "cell_type": "markdown",
   "metadata": {},
   "source": [
    "### Different ways to find an element"
   ]
  },
  {
   "cell_type": "code",
   "execution_count": 98,
   "metadata": {
    "collapsed": false
   },
   "outputs": [
    {
     "name": "stdout",
     "output_type": "stream",
     "text": [
      "<!DOCTYPE html>\n",
      "<html lang=\"en\">\n",
      " <head>\n",
      "  <meta charset=\"utf-8\"/>\n",
      "  <title>\n",
      "   Soup Title\n",
      "  </title>\n",
      "  <meta content=\"Soup\" name=\"description\"/>\n",
      "  <meta content=\"Soupy Soup\" name=\"author\"/>\n",
      "  <style type=\"text/css\">\n",
      "   .tg  {border-collapse:collapse;border-spacing:0;border-color:#999;border-width:1px;border-style:solid;margin:0px auto;}\r\n",
      "  .tg td {font-family:Arial, sans-serif;font-size:14px;padding:10px 5px;border-style:solid;border-width:0px;overflow:hidden;word-break:normal;border-color:#999;color:#444;background-color:#F7FDFA;}\r\n",
      "  .tg th {font-family:Arial, sans-serif;font-size:14px;font-weight:normal;padding:10px 5px;border-style:solid;border-width:0px;overflow:hidden;word-break:normal;border-color:#999;color:#fff;background-color:#26ADE4;}\r\n",
      "  .tg .tg-vn4c {background-color:#D2E4FC}\n",
      "  </style>\n",
      " </head>\n",
      " <body>\n",
      "  <table class=\"tg\">\n",
      "   <tr>\n",
      "    <th class=\"tg-031e\">\n",
      "     Soup\n",
      "    </th>\n",
      "    <th class=\"tg-031e\">\n",
      "     Price\n",
      "    </th>\n",
      "    <th class=\"tg-031e\">\n",
      "     Weight\n",
      "    </th>\n",
      "    <th class=\"tg-031e\">\n",
      "     Rating\n",
      "    </th>\n",
      "    <th class=\"tg-031e\">\n",
      "     Reviews\n",
      "    </th>\n",
      "   </tr>\n",
      "   <tr>\n",
      "    <td class=\"tg-vn4c\">\n",
      "     Amy's Kitchen Organic Gluten Free Low Fat Chunky Tomato Soup\n",
      "    </td>\n",
      "    <td class=\"tg-vn4c\">\n",
      "     1.7\n",
      "    </td>\n",
      "    <td class=\"tg-vn4c\">\n",
      "     .100\n",
      "    </td>\n",
      "    <td class=\"tg-vn4c\">\n",
      "     5\n",
      "    </td>\n",
      "    <td class=\"tg-vn4c\">\n",
      "     4\n",
      "    </td>\n",
      "   </tr>\n",
      "   <tr>\n",
      "    <td class=\"tg-031e\">\n",
      "     Heinz Classic Cream of Tomato Soup\n",
      "    </td>\n",
      "    <td class=\"tg-031e\">\n",
      "     .95\n",
      "    </td>\n",
      "    <td class=\"tg-031e\">\n",
      "     .400\n",
      "    </td>\n",
      "    <td class=\"tg-031e\">\n",
      "     5\n",
      "    </td>\n",
      "    <td class=\"tg-031e\">\n",
      "     14\n",
      "    </td>\n",
      "   </tr>\n",
      "   <tr>\n",
      "    <td class=\"tg-vn4c\">\n",
      "     Baxters Favourites Cream of Tomato Soup\n",
      "    </td>\n",
      "    <td class=\"tg-vn4c\">\n",
      "     1.15\n",
      "    </td>\n",
      "    <td class=\"tg-vn4c\">\n",
      "     .400\n",
      "    </td>\n",
      "    <td class=\"tg-vn4c\">\n",
      "     2\n",
      "    </td>\n",
      "    <td class=\"tg-vn4c\">\n",
      "     1\n",
      "    </td>\n",
      "   </tr>\n",
      "   <tr>\n",
      "    <td class=\"tg-031e\">\n",
      "     Cross &amp; Blackwell Cream of Tomato Soup\n",
      "    </td>\n",
      "    <td class=\"tg-031e\">\n",
      "     2.00\n",
      "    </td>\n",
      "    <td class=\"tg-031e\">\n",
      "     4 x .400\n",
      "    </td>\n",
      "    <td class=\"tg-031e\">\n",
      "     5\n",
      "    </td>\n",
      "    <td class=\"tg-031e\">\n",
      "     2\n",
      "    </td>\n",
      "   </tr>\n",
      "   <tr>\n",
      "    <td class=\"tg-vn4c\">\n",
      "     Morrisons Cream of Tomato Soup\n",
      "    </td>\n",
      "    <td class=\"tg-vn4c\">\n",
      "     .45\n",
      "    </td>\n",
      "    <td class=\"tg-vn4c\">\n",
      "     .100\n",
      "    </td>\n",
      "    <td class=\"tg-vn4c\">\n",
      "     4\n",
      "    </td>\n",
      "    <td class=\"tg-vn4c\">\n",
      "     1\n",
      "    </td>\n",
      "   </tr>\n",
      "  </table>\n",
      " </body>\n",
      "</html>\n",
      "<head>\n",
      " <meta charset=\"utf-8\"/>\n",
      " <title>\n",
      "  Soup Title\n",
      " </title>\n",
      " <meta content=\"Soup\" name=\"description\"/>\n",
      " <meta content=\"Soupy Soup\" name=\"author\"/>\n",
      " <style type=\"text/css\">\n",
      "  .tg  {border-collapse:collapse;border-spacing:0;border-color:#999;border-width:1px;border-style:solid;margin:0px auto;}\r\n",
      "  .tg td {font-family:Arial, sans-serif;font-size:14px;padding:10px 5px;border-style:solid;border-width:0px;overflow:hidden;word-break:normal;border-color:#999;color:#444;background-color:#F7FDFA;}\r\n",
      "  .tg th {font-family:Arial, sans-serif;font-size:14px;font-weight:normal;padding:10px 5px;border-style:solid;border-width:0px;overflow:hidden;word-break:normal;border-color:#999;color:#fff;background-color:#26ADE4;}\r\n",
      "  .tg .tg-vn4c {background-color:#D2E4FC}\n",
      " </style>\n",
      "</head>\n",
      "\n",
      "<title>\r\n",
      "   Soup Title\r\n",
      "  </title>\n",
      "\r\n",
      "   Soup Title\r\n",
      "  \n"
     ]
    }
   ],
   "source": [
    "print soup.prettify()\n",
    "print soup.find('head').prettify()\n",
    "print soup.find('head').find('title')\n",
    "print soup.find('head').find('title').get_text()"
   ]
  },
  {
   "cell_type": "code",
   "execution_count": 99,
   "metadata": {
    "collapsed": false
   },
   "outputs": [
    {
     "name": "stdout",
     "output_type": "stream",
     "text": [
      "<head>\n",
      " <meta charset=\"utf-8\"/>\n",
      " <title>\n",
      "  Soup Title\n",
      " </title>\n",
      " <meta content=\"Soup\" name=\"description\"/>\n",
      " <meta content=\"Soupy Soup\" name=\"author\"/>\n",
      " <style type=\"text/css\">\n",
      "  .tg  {border-collapse:collapse;border-spacing:0;border-color:#999;border-width:1px;border-style:solid;margin:0px auto;}\r\n",
      "  .tg td {font-family:Arial, sans-serif;font-size:14px;padding:10px 5px;border-style:solid;border-width:0px;overflow:hidden;word-break:normal;border-color:#999;color:#444;background-color:#F7FDFA;}\r\n",
      "  .tg th {font-family:Arial, sans-serif;font-size:14px;font-weight:normal;padding:10px 5px;border-style:solid;border-width:0px;overflow:hidden;word-break:normal;border-color:#999;color:#fff;background-color:#26ADE4;}\r\n",
      "  .tg .tg-vn4c {background-color:#D2E4FC}\n",
      " </style>\n",
      "</head>\n",
      "\n"
     ]
    }
   ],
   "source": [
    "print soup.find('head').prettify()"
   ]
  },
  {
   "cell_type": "code",
   "execution_count": 100,
   "metadata": {
    "collapsed": false
   },
   "outputs": [
    {
     "name": "stdout",
     "output_type": "stream",
     "text": [
      "<title>\r\n",
      "   Soup Title\r\n",
      "  </title>\n"
     ]
    }
   ],
   "source": [
    "print soup.find('head').find('title')"
   ]
  },
  {
   "cell_type": "code",
   "execution_count": 101,
   "metadata": {
    "collapsed": false
   },
   "outputs": [
    {
     "name": "stdout",
     "output_type": "stream",
     "text": [
      "\r\n",
      "   Soup Title\r\n",
      "  \n"
     ]
    }
   ],
   "source": [
    "print soup.find('head').find('title').get_text()"
   ]
  },
  {
   "cell_type": "code",
   "execution_count": 102,
   "metadata": {
    "collapsed": false
   },
   "outputs": [
    {
     "name": "stdout",
     "output_type": "stream",
     "text": [
      "\r\n",
      "   Soup Title\r\n",
      "  \n",
      "\r\n",
      "   Soup Title\r\n",
      "  \n",
      "\r\n",
      "   Soup Title\r\n",
      "  \n",
      "\r\n",
      "   Soup Title\r\n",
      "  \n"
     ]
    }
   ],
   "source": [
    "print soup.find('head').find('title').get_text()\n",
    "print soup.title.get_text()\n",
    "print soup.title.getText()\n",
    "print soup.title.text"
   ]
  },
  {
   "cell_type": "code",
   "execution_count": 103,
   "metadata": {
    "collapsed": false
   },
   "outputs": [
    {
     "name": "stdout",
     "output_type": "stream",
     "text": [
      "{}\n"
     ]
    }
   ],
   "source": [
    "title=soup.find('title') \n",
    "print title.attrs"
   ]
  },
  {
   "cell_type": "markdown",
   "metadata": {},
   "source": [
    "### Selecting a table"
   ]
  },
  {
   "cell_type": "code",
   "execution_count": 105,
   "metadata": {
    "collapsed": false
   },
   "outputs": [
    {
     "name": "stdout",
     "output_type": "stream",
     "text": [
      "{'class': ['tg']}\n",
      "6\n",
      "25\n",
      "5\n"
     ]
    }
   ],
   "source": [
    "tables=soup.find_all('table')\n",
    "for table in tables:\n",
    "    print table.attrs\n",
    "    print len(table.find_all('tr')) # row tags\n",
    "    print len(table.find_all('td')) # column tags or cells\n",
    "    print len(table.find_all('th')) "
   ]
  },
  {
   "cell_type": "markdown",
   "metadata": {},
   "source": [
    "### Converting the table into a python data structure"
   ]
  },
  {
   "cell_type": "code",
   "execution_count": 106,
   "metadata": {
    "collapsed": false
   },
   "outputs": [],
   "source": [
    "table = soup.find('table', attrs={'class': ['tg']})\n",
    "rows=table.find_all('tr')\n",
    "header_row=rows.pop(0)"
   ]
  },
  {
   "cell_type": "code",
   "execution_count": 107,
   "metadata": {
    "collapsed": false
   },
   "outputs": [
    {
     "name": "stdout",
     "output_type": "stream",
     "text": [
      "<table class=\"tg\">\n",
      "<tr>\n",
      "<th class=\"tg-031e\">\r\n",
      "     Soup\r\n",
      "    </th>\n",
      "<th class=\"tg-031e\">\r\n",
      "     Price\r\n",
      "    </th>\n",
      "<th class=\"tg-031e\">\r\n",
      "     Weight\r\n",
      "    </th>\n",
      "<th class=\"tg-031e\">\r\n",
      "     Rating\r\n",
      "    </th>\n",
      "<th class=\"tg-031e\">\r\n",
      "     Reviews\r\n",
      "    </th>\n",
      "</tr>\n",
      "<tr>\n",
      "<td class=\"tg-vn4c\">\r\n",
      "     Amy's Kitchen Organic Gluten Free Low Fat Chunky Tomato Soup\r\n",
      "    </td>\n",
      "<td class=\"tg-vn4c\">\r\n",
      "     1.7\r\n",
      "    </td>\n",
      "<td class=\"tg-vn4c\">\r\n",
      "     .100\r\n",
      "    </td>\n",
      "<td class=\"tg-vn4c\">\r\n",
      "     5\r\n",
      "    </td>\n",
      "<td class=\"tg-vn4c\">\r\n",
      "     4\r\n",
      "    </td>\n",
      "</tr>\n",
      "<tr>\n",
      "<td class=\"tg-031e\">\r\n",
      "     Heinz Classic Cream of Tomato Soup\r\n",
      "    </td>\n",
      "<td class=\"tg-031e\">\r\n",
      "     .95\r\n",
      "    </td>\n",
      "<td class=\"tg-031e\">\r\n",
      "     .400\r\n",
      "    </td>\n",
      "<td class=\"tg-031e\">\r\n",
      "     5\r\n",
      "    </td>\n",
      "<td class=\"tg-031e\">\r\n",
      "     14\r\n",
      "    </td>\n",
      "</tr>\n",
      "<tr>\n",
      "<td class=\"tg-vn4c\">\r\n",
      "     Baxters Favourites Cream of Tomato Soup\r\n",
      "    </td>\n",
      "<td class=\"tg-vn4c\">\r\n",
      "     1.15\r\n",
      "    </td>\n",
      "<td class=\"tg-vn4c\">\r\n",
      "     .400\r\n",
      "    </td>\n",
      "<td class=\"tg-vn4c\">\r\n",
      "     2\r\n",
      "    </td>\n",
      "<td class=\"tg-vn4c\">\r\n",
      "     1\r\n",
      "    </td>\n",
      "</tr>\n",
      "<tr>\n",
      "<td class=\"tg-031e\">\r\n",
      "     Cross &amp; Blackwell Cream of Tomato Soup\r\n",
      "    </td>\n",
      "<td class=\"tg-031e\">\r\n",
      "     2.00\r\n",
      "    </td>\n",
      "<td class=\"tg-031e\">\r\n",
      "     4 x .400\r\n",
      "    </td>\n",
      "<td class=\"tg-031e\">\r\n",
      "     5\r\n",
      "    </td>\n",
      "<td class=\"tg-031e\">\r\n",
      "     2\r\n",
      "    </td>\n",
      "</tr>\n",
      "<tr>\n",
      "<td class=\"tg-vn4c\">\r\n",
      "     Morrisons Cream of Tomato Soup\r\n",
      "    </td>\n",
      "<td class=\"tg-vn4c\">\r\n",
      "     .45\r\n",
      "    </td>\n",
      "<td class=\"tg-vn4c\">\r\n",
      "     .100\r\n",
      "    </td>\n",
      "<td class=\"tg-vn4c\">\r\n",
      "     4\r\n",
      "    </td>\n",
      "<td class=\"tg-vn4c\">\r\n",
      "     1\r\n",
      "    </td>\n",
      "</tr>\n",
      "</table>\n"
     ]
    }
   ],
   "source": [
    "print table"
   ]
  },
  {
   "cell_type": "code",
   "execution_count": 108,
   "metadata": {
    "collapsed": false
   },
   "outputs": [],
   "source": [
    "rows=table.find_all('tr')\n",
    "header_row=rows.pop(0)"
   ]
  },
  {
   "cell_type": "code",
   "execution_count": 110,
   "metadata": {
    "collapsed": false
   },
   "outputs": [
    {
     "name": "stdout",
     "output_type": "stream",
     "text": [
      "[<tr>\\n<td class=\"tg-vn4c\">\\r\\n     Amy's Kitchen Organic Gluten Free Low Fat Chunky Tomato Soup\\r\\n    </td>\\n<td class=\"tg-vn4c\">\\r\\n     1.7\\r\\n    </td>\\n<td class=\"tg-vn4c\">\\r\\n     .100\\r\\n    </td>\\n<td class=\"tg-vn4c\">\\r\\n     5\\r\\n    </td>\\n<td class=\"tg-vn4c\">\\r\\n     4\\r\\n    </td>\\n</tr>, <tr>\\n<td class=\"tg-031e\">\\r\\n     Heinz Classic Cream of Tomato Soup\\r\\n    </td>\\n<td class=\"tg-031e\">\\r\\n     .95\\r\\n    </td>\\n<td class=\"tg-031e\">\\r\\n     .400\\r\\n    </td>\\n<td class=\"tg-031e\">\\r\\n     5\\r\\n    </td>\\n<td class=\"tg-031e\">\\r\\n     14\\r\\n    </td>\\n</tr>, <tr>\\n<td class=\"tg-vn4c\">\\r\\n     Baxters Favourites Cream of Tomato Soup\\r\\n    </td>\\n<td class=\"tg-vn4c\">\\r\\n     1.15\\r\\n    </td>\\n<td class=\"tg-vn4c\">\\r\\n     .400\\r\\n    </td>\\n<td class=\"tg-vn4c\">\\r\\n     2\\r\\n    </td>\\n<td class=\"tg-vn4c\">\\r\\n     1\\r\\n    </td>\\n</tr>, <tr>\\n<td class=\"tg-031e\">\\r\\n     Cross &amp; Blackwell Cream of Tomato Soup\\r\\n    </td>\\n<td class=\"tg-031e\">\\r\\n     2.00\\r\\n    </td>\\n<td class=\"tg-031e\">\\r\\n     4 x .400\\r\\n    </td>\\n<td class=\"tg-031e\">\\r\\n     5\\r\\n    </td>\\n<td class=\"tg-031e\">\\r\\n     2\\r\\n    </td>\\n</tr>, <tr>\\n<td class=\"tg-vn4c\">\\r\\n     Morrisons Cream of Tomato Soup\\r\\n    </td>\\n<td class=\"tg-vn4c\">\\r\\n     .45\\r\\n    </td>\\n<td class=\"tg-vn4c\">\\r\\n     .100\\r\\n    </td>\\n<td class=\"tg-vn4c\">\\r\\n     4\\r\\n    </td>\\n<td class=\"tg-vn4c\">\\r\\n     1\\r\\n    </td>\\n</tr>]\n"
     ]
    }
   ],
   "source": [
    "print rows"
   ]
  },
  {
   "cell_type": "code",
   "execution_count": 111,
   "metadata": {
    "collapsed": false
   },
   "outputs": [],
   "source": [
    "soup_list=[]\n",
    "for row in rows:\n",
    "    name,price,weight,rating,reviews=row.find_all('td')\n",
    "    soup_list.append({\n",
    "        'name': name.text,\n",
    "        'price': price.text,\n",
    "        'weight': weight.text,\n",
    "        'rating': rating.text,\n",
    "        'reviews': reviews.text \n",
    "    })"
   ]
  },
  {
   "cell_type": "code",
   "execution_count": 112,
   "metadata": {
    "collapsed": false
   },
   "outputs": [
    {
     "data": {
      "text/plain": [
       "[{'name': u\"\\r\\n     Amy's Kitchen Organic Gluten Free Low Fat Chunky Tomato Soup\\r\\n    \",\n",
       "  'price': u'\\r\\n     1.7\\r\\n    ',\n",
       "  'rating': u'\\r\\n     5\\r\\n    ',\n",
       "  'reviews': u'\\r\\n     4\\r\\n    ',\n",
       "  'weight': u'\\r\\n     .100\\r\\n    '},\n",
       " {'name': u'\\r\\n     Heinz Classic Cream of Tomato Soup\\r\\n    ',\n",
       "  'price': u'\\r\\n     .95\\r\\n    ',\n",
       "  'rating': u'\\r\\n     5\\r\\n    ',\n",
       "  'reviews': u'\\r\\n     14\\r\\n    ',\n",
       "  'weight': u'\\r\\n     .400\\r\\n    '},\n",
       " {'name': u'\\r\\n     Baxters Favourites Cream of Tomato Soup\\r\\n    ',\n",
       "  'price': u'\\r\\n     1.15\\r\\n    ',\n",
       "  'rating': u'\\r\\n     2\\r\\n    ',\n",
       "  'reviews': u'\\r\\n     1\\r\\n    ',\n",
       "  'weight': u'\\r\\n     .400\\r\\n    '},\n",
       " {'name': u'\\r\\n     Cross & Blackwell Cream of Tomato Soup\\r\\n    ',\n",
       "  'price': u'\\r\\n     2.00\\r\\n    ',\n",
       "  'rating': u'\\r\\n     5\\r\\n    ',\n",
       "  'reviews': u'\\r\\n     2\\r\\n    ',\n",
       "  'weight': u'\\r\\n     4 x .400\\r\\n    '},\n",
       " {'name': u'\\r\\n     Morrisons Cream of Tomato Soup\\r\\n    ',\n",
       "  'price': u'\\r\\n     .45\\r\\n    ',\n",
       "  'rating': u'\\r\\n     4\\r\\n    ',\n",
       "  'reviews': u'\\r\\n     1\\r\\n    ',\n",
       "  'weight': u'\\r\\n     .100\\r\\n    '}]"
      ]
     },
     "execution_count": 112,
     "metadata": {},
     "output_type": "execute_result"
    }
   ],
   "source": [
    "soup_list"
   ]
  },
  {
   "cell_type": "code",
   "execution_count": 113,
   "metadata": {
    "collapsed": true
   },
   "outputs": [],
   "source": [
    "import pandas as pd"
   ]
  },
  {
   "cell_type": "markdown",
   "metadata": {},
   "source": [
    "### Convert it into a pandas dataframe"
   ]
  },
  {
   "cell_type": "code",
   "execution_count": 114,
   "metadata": {
    "collapsed": false
   },
   "outputs": [],
   "source": [
    "import pandas as pd\n",
    "df=pd.DataFrame(soup_list)"
   ]
  },
  {
   "cell_type": "code",
   "execution_count": 115,
   "metadata": {
    "collapsed": false
   },
   "outputs": [
    {
     "data": {
      "text/html": [
       "<div>\n",
       "<table border=\"1\" class=\"dataframe\">\n",
       "  <thead>\n",
       "    <tr style=\"text-align: right;\">\n",
       "      <th></th>\n",
       "      <th>name</th>\n",
       "      <th>price</th>\n",
       "      <th>rating</th>\n",
       "      <th>reviews</th>\n",
       "      <th>weight</th>\n",
       "    </tr>\n",
       "  </thead>\n",
       "  <tbody>\n",
       "    <tr>\n",
       "      <th>0</th>\n",
       "      <td>\\r\\n     Amy's Kitchen Organic Gluten Free Low...</td>\n",
       "      <td>\\r\\n     1.7\\r\\n</td>\n",
       "      <td>\\r\\n     5\\r\\n</td>\n",
       "      <td>\\r\\n     4\\r\\n</td>\n",
       "      <td>\\r\\n     .100\\r\\n</td>\n",
       "    </tr>\n",
       "    <tr>\n",
       "      <th>1</th>\n",
       "      <td>\\r\\n     Heinz Classic Cream of Tomato Soup\\r\\...</td>\n",
       "      <td>\\r\\n     .95\\r\\n</td>\n",
       "      <td>\\r\\n     5\\r\\n</td>\n",
       "      <td>\\r\\n     14\\r\\n</td>\n",
       "      <td>\\r\\n     .400\\r\\n</td>\n",
       "    </tr>\n",
       "    <tr>\n",
       "      <th>2</th>\n",
       "      <td>\\r\\n     Baxters Favourites Cream of Tomato So...</td>\n",
       "      <td>\\r\\n     1.15\\r\\n</td>\n",
       "      <td>\\r\\n     2\\r\\n</td>\n",
       "      <td>\\r\\n     1\\r\\n</td>\n",
       "      <td>\\r\\n     .400\\r\\n</td>\n",
       "    </tr>\n",
       "    <tr>\n",
       "      <th>3</th>\n",
       "      <td>\\r\\n     Cross &amp; Blackwell Cream of Tomato Sou...</td>\n",
       "      <td>\\r\\n     2.00\\r\\n</td>\n",
       "      <td>\\r\\n     5\\r\\n</td>\n",
       "      <td>\\r\\n     2\\r\\n</td>\n",
       "      <td>\\r\\n     4 x .400\\r\\n</td>\n",
       "    </tr>\n",
       "    <tr>\n",
       "      <th>4</th>\n",
       "      <td>\\r\\n     Morrisons Cream of Tomato Soup\\r\\n</td>\n",
       "      <td>\\r\\n     .45\\r\\n</td>\n",
       "      <td>\\r\\n     4\\r\\n</td>\n",
       "      <td>\\r\\n     1\\r\\n</td>\n",
       "      <td>\\r\\n     .100\\r\\n</td>\n",
       "    </tr>\n",
       "  </tbody>\n",
       "</table>\n",
       "</div>"
      ],
      "text/plain": [
       "                                                name                  price  \\\n",
       "0  \\r\\n     Amy's Kitchen Organic Gluten Free Low...   \\r\\n     1.7\\r\\n       \n",
       "1  \\r\\n     Heinz Classic Cream of Tomato Soup\\r\\...   \\r\\n     .95\\r\\n       \n",
       "2  \\r\\n     Baxters Favourites Cream of Tomato So...  \\r\\n     1.15\\r\\n       \n",
       "3  \\r\\n     Cross & Blackwell Cream of Tomato Sou...  \\r\\n     2.00\\r\\n       \n",
       "4    \\r\\n     Morrisons Cream of Tomato Soup\\r\\n       \\r\\n     .45\\r\\n       \n",
       "\n",
       "               rating              reviews                     weight  \n",
       "0  \\r\\n     5\\r\\n       \\r\\n     4\\r\\n          \\r\\n     .100\\r\\n      \n",
       "1  \\r\\n     5\\r\\n      \\r\\n     14\\r\\n          \\r\\n     .400\\r\\n      \n",
       "2  \\r\\n     2\\r\\n       \\r\\n     1\\r\\n          \\r\\n     .400\\r\\n      \n",
       "3  \\r\\n     5\\r\\n       \\r\\n     2\\r\\n      \\r\\n     4 x .400\\r\\n      \n",
       "4  \\r\\n     4\\r\\n       \\r\\n     1\\r\\n          \\r\\n     .100\\r\\n      "
      ]
     },
     "execution_count": 115,
     "metadata": {},
     "output_type": "execute_result"
    }
   ],
   "source": [
    "df"
   ]
  },
  {
   "cell_type": "code",
   "execution_count": null,
   "metadata": {
    "collapsed": true
   },
   "outputs": [],
   "source": []
  }
 ],
 "metadata": {
  "kernelspec": {
   "display_name": "Python 2",
   "language": "python",
   "name": "python2"
  },
  "language_info": {
   "codemirror_mode": {
    "name": "ipython",
    "version": 2
   },
   "file_extension": ".py",
   "mimetype": "text/x-python",
   "name": "python",
   "nbconvert_exporter": "python",
   "pygments_lexer": "ipython2",
   "version": "2.7.11"
  }
 },
 "nbformat": 4,
 "nbformat_minor": 0
}
